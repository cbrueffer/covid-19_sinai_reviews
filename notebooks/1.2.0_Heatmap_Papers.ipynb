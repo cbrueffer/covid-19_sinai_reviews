{
 "cells": [
  {
   "cell_type": "markdown",
   "metadata": {},
   "source": [
    "# 1.2.0 Heatmap Papers\n",
    "Want to prioritize words that are genes"
   ]
  },
  {
   "cell_type": "code",
   "execution_count": 1,
   "metadata": {},
   "outputs": [],
   "source": [
    "import pandas as pd\n",
    "import requests\n",
    "from glob import glob\n",
    "import json\n",
    "from copy import deepcopy"
   ]
  },
  {
   "cell_type": "code",
   "execution_count": 2,
   "metadata": {},
   "outputs": [
    {
     "name": "stdout",
     "output_type": "stream",
     "text": [
      ">> clustergrammer2 backend version 0.13.1\n",
      "initialize meta_cet False\n"
     ]
    }
   ],
   "source": [
    "from clustergrammer2 import net"
   ]
  },
  {
   "cell_type": "code",
   "execution_count": 3,
   "metadata": {},
   "outputs": [
    {
     "data": {
      "text/plain": [
       "190"
      ]
     },
     "execution_count": 3,
     "metadata": {},
     "output_type": "execute_result"
    }
   ],
   "source": [
    "all_files = glob('../markdown_files/*.md')\n",
    "len(all_files)"
   ]
  },
  {
   "cell_type": "markdown",
   "metadata": {},
   "source": [
    "### Load Altmetric Data"
   ]
  },
  {
   "cell_type": "code",
   "execution_count": 4,
   "metadata": {},
   "outputs": [],
   "source": [
    "dict_altmetric = net.load_json_to_dict('../altmetric_data/altmetric_scores.json')"
   ]
  },
  {
   "cell_type": "markdown",
   "metadata": {},
   "source": [
    "### Load Google Sheet Data"
   ]
  },
  {
   "cell_type": "code",
   "execution_count": 5,
   "metadata": {},
   "outputs": [],
   "source": [
    "google_sheet_url = 'https://docs.google.com/spreadsheets/d/e/2PACX-1vRngfhDKqZUEhHuQY60n3Bh76gkMQKeOq6D7UYkSgt0KPP7rcCTE-PjMeWO1g1YlGVhBTAMJS6rn-pc/pub?gid=0&single=true&output=tsv'"
   ]
  },
  {
   "cell_type": "code",
   "execution_count": 6,
   "metadata": {},
   "outputs": [],
   "source": [
    "r = requests.get(google_sheet_url)\n",
    "import sys\n",
    "if sys.version_info[0] < 3: \n",
    "    from StringIO import StringIO\n",
    "else:\n",
    "    from io import StringIO\n",
    "TESTDATA = StringIO(r.text)\n",
    "df = pd.read_csv(TESTDATA, sep=\"\\t\", index_col=0)\n",
    "df.index.name = None"
   ]
  },
  {
   "cell_type": "markdown",
   "metadata": {},
   "source": [
    "### Download Latest Preprints"
   ]
  },
  {
   "cell_type": "code",
   "execution_count": 7,
   "metadata": {},
   "outputs": [],
   "source": [
    "url = 'https://connect.biorxiv.org/relate/collection_json.php?grp=181'"
   ]
  },
  {
   "cell_type": "code",
   "execution_count": 8,
   "metadata": {},
   "outputs": [],
   "source": [
    "r = requests.get(url)"
   ]
  },
  {
   "cell_type": "code",
   "execution_count": 9,
   "metadata": {},
   "outputs": [],
   "source": [
    "req_dict = json.loads(r.text)"
   ]
  },
  {
   "cell_type": "code",
   "execution_count": 10,
   "metadata": {},
   "outputs": [],
   "source": [
    "stop_words = [\"i\",\"me\",\"my\",\"myself\",\"we\",\"us\",\"our\",\"ours\",\"ourselves\",\"you\",\"your\",\"yours\",\"yourself\",\"yourselves\",\"he\",\"him\",\"his\",\"himself\",\"she\",\"her\",\"hers\",\"herself\",\"it\",\"its\",\"itself\",\"they\",\"them\",\"their\",\"theirs\",\"themselves\",\"what\",\"which\",\"who\",\"whom\",\"whose\",\"this\",\"that\",\"these\",\"those\",\"am\",\"is\",\"are\",\"was\",\"were\",\"be\",\"been\",\"being\",\"have\",\"has\",\"had\",\"having\",\"do\",\"does\",\"did\",\"doing\",\"will\",\"would\",\"should\",\"can\",\"could\",\"ought\",\"i'm\",\"you're\",\"he's\",\"she's\",\"it's\",\"we're\",\"they're\",\"i've\",\"you've\",\"we've\",\"they've\",\"i'd\",\"you'd\",\"he'd\",\"she'd\",\"we'd\",\"they'd\",\"i'll\",\"you'll\",\"he'll\",\"she'll\",\"we'll\",\"they'll\",\"isn't\",\"aren't\",\"wasn't\",\"weren't\",\"hasn't\",\"haven't\",\"hadn't\",\"doesn't\",\"don't\",\"didn't\",\"won't\",\"wouldn't\",\"shan't\",\"shouldn't\",\"can't\",\"cannot\",\"couldn't\",\"mustn't\",\"let's\",\"that's\",\"who's\",\"what's\",\"here's\",\"there's\",\"when's\",\"where's\",\"why's\",\"how's\",\"a\",\"an\",\"the\",\"and\",\"but\",\"if\",\"or\",\"because\",\"as\",\"until\",\"while\",\"of\",\"at\",\"by\",\"for\",\"with\",\"about\",\"against\",\"between\",\"into\",\"through\",\"during\",\"before\",\"after\",\"above\",\"below\",\"to\",\"from\",\"up\",\"upon\",\"down\",\"in\",\"out\",\"on\",\"off\",\"over\",\"under\",\"again\",\"further\",\"then\",\"once\",\"here\",\"there\",\"when\",\"where\",\"why\",\"how\",\"all\",\"any\",\"both\",\"each\",\"few\",\"more\",\"most\",\"other\",\"some\",\"such\",\"no\",\"nor\",\"not\",\"only\",\"own\",\"same\",\"so\",\"than\",\"too\",\"very\",\"say\",\"says\",\"said\",\"shall\",\"2019\",\"novel\",\"patients\",\"using\",\"may\",\"2019-ncov\",\"2020\"]\n",
    "stop_words.extend(['2020,', 'conclusions', 'characteristics'])\n",
    "stop_words.extend(['=', '1', '2', '3', '4', '5', '6', '7', '8', '9'])"
   ]
  },
  {
   "cell_type": "code",
   "execution_count": 11,
   "metadata": {},
   "outputs": [],
   "source": [
    "more_stop_words = ['data', 'results', 'study', 'used', 'also', 'analysis', 'two', 'one', 'different', 'however',\n",
    "                  'early', 'first', 'found', 'new', 'well', 'show', 'three', 'use', 'important', 'method', 'observed', \n",
    "                  'studies', 'across', 'due', 'likely', 'included', 'suggest', 'many', 'similar', 'around', \n",
    "                  'several', 'still', 'even', 'basic', 'four', 'much', 'now', 'five', 'six', 'since', 'thus', \n",
    "                  'especially', 'end', 'considered', 'result', 'find', 'general', 'best', 'thus']\n",
    "stop_words.extend(more_stop_words)"
   ]
  },
  {
   "cell_type": "code",
   "execution_count": 12,
   "metadata": {},
   "outputs": [],
   "source": [
    "doi_words = {}\n",
    "all_words = []\n",
    "doi_titles = {}\n",
    "doi_site = {}\n",
    "arr_papers = req_dict['rels']\n",
    "for inst_paper in arr_papers:\n",
    "\n",
    "    # get words from abstract\n",
    "    inst_words = [x.lower().replace(':','').replace(',','').replace('.','')\n",
    "                           .replace('(', '').replace(')', '')\n",
    "                           .replace('\\n','').replace('\\t','')\n",
    "                           for x in inst_paper['rel_abs'].split()]\n",
    "    \n",
    "    # explicit drop words\n",
    "    inst_words = [x for x in inst_words if x not in stop_words]    \n",
    "    \n",
    "    # drop words that do not contain letters\n",
    "    inst_words = [x for x in inst_words if x.islower()]\n",
    "    \n",
    "    # save words to dict \n",
    "    doi_words[inst_paper['rel_doi']] = sorted(list(set(inst_words)))\n",
    "    \n",
    "    doi_titles[inst_paper['rel_doi']] = inst_paper['rel_title']\n",
    "    \n",
    "    doi_site[inst_paper['rel_doi']] = inst_paper['rel_site']\n",
    "    \n",
    "    all_words.extend(inst_words)"
   ]
  },
  {
   "cell_type": "code",
   "execution_count": 13,
   "metadata": {},
   "outputs": [
    {
     "data": {
      "text/plain": [
       "10.1101/2020.05.29.20110098    Evolutionary trends of the COVID-19 epidemic a...\n",
       "10.1101/2020.05.31.20118703    The Mathematics of Testing with Application to...\n",
       "10.1101/2020.06.01.20118935    Trauma-spectrum symptoms among the Italian gen...\n",
       "10.1101/2020.06.01.20118943    Greater risk of severe COVID-19 in non-White e...\n",
       "10.1101/2020.05.30.20107888    Machine learning in predicting respiratory fai...\n",
       "dtype: object"
      ]
     },
     "execution_count": 13,
     "metadata": {},
     "output_type": "execute_result"
    }
   ],
   "source": [
    "ser_titles = pd.Series(doi_titles)\n",
    "ser_titles.head()"
   ]
  },
  {
   "cell_type": "code",
   "execution_count": 14,
   "metadata": {},
   "outputs": [
    {
     "data": {
      "text/plain": [
       "(4589, 1)"
      ]
     },
     "execution_count": 14,
     "metadata": {},
     "output_type": "execute_result"
    }
   ],
   "source": [
    "df_meta = pd.DataFrame(ser_titles, columns=['Title'])\n",
    "df_meta.shape"
   ]
  },
  {
   "cell_type": "markdown",
   "metadata": {},
   "source": [
    "### Add Paper Metadata"
   ]
  },
  {
   "cell_type": "code",
   "execution_count": 15,
   "metadata": {},
   "outputs": [
    {
     "data": {
      "text/plain": [
       "dict_keys(['rel_title', 'rel_doi', 'rel_link', 'rel_abs', 'rel_num_authors', 'rel_authors', 'rel_date', 'rel_site'])"
      ]
     },
     "execution_count": 15,
     "metadata": {},
     "output_type": "execute_result"
    }
   ],
   "source": [
    "inst_paper.keys()"
   ]
  },
  {
   "cell_type": "code",
   "execution_count": 16,
   "metadata": {},
   "outputs": [
    {
     "name": "stdout",
     "output_type": "stream",
     "text": [
      "not found\n",
      "not found\n",
      "not found\n",
      "not found\n",
      "not found\n",
      "not found\n",
      "not found\n"
     ]
    }
   ],
   "source": [
    "for inst_paper in arr_papers:\n",
    "    inst_doi = inst_paper['rel_doi']\n",
    "    \n",
    "    # date\n",
    "    inst_date = inst_paper['rel_date'].split('-')\n",
    "    df_meta.loc[inst_doi, 'date'] = float( inst_date[1] + '.' + inst_date[2])\n",
    "    \n",
    "    # altmetric score\n",
    "    if inst_doi in dict_altmetric:\n",
    "        df_meta.loc[inst_doi, 'altmetric'] = dict_altmetric[inst_doi]\n",
    "    else:\n",
    "        print('not found')\n",
    "        df_meta.loc[inst_doi, 'altmetric'] = 0"
   ]
  },
  {
   "cell_type": "code",
   "execution_count": 17,
   "metadata": {},
   "outputs": [
    {
     "data": {
      "text/plain": [
       "(7705,)"
      ]
     },
     "execution_count": 17,
     "metadata": {},
     "output_type": "execute_result"
    }
   ],
   "source": [
    "ser_count = pd.Series(all_words).value_counts()\n",
    "ser_count = ser_count[ser_count < len(arr_papers) * 0.75 ][ser_count > 5]\n",
    "ser_count.shape"
   ]
  },
  {
   "cell_type": "code",
   "execution_count": 18,
   "metadata": {},
   "outputs": [
    {
     "data": {
      "text/plain": [
       "<matplotlib.axes._subplots.AxesSubplot at 0x1a129a0630>"
      ]
     },
     "execution_count": 18,
     "metadata": {},
     "output_type": "execute_result"
    },
    {
     "data": {
      "image/png": "[encoded data removed]",
      "text/plain": [
       "<Figure size 432x288 with 1 Axes>"
      ]
     },
     "metadata": {},
     "output_type": "display_data"
    }
   ],
   "source": [
    "ser_count.plot()"
   ]
  },
  {
   "cell_type": "code",
   "execution_count": 19,
   "metadata": {
    "scrolled": false
   },
   "outputs": [],
   "source": [
    "top_words = ser_count.index.tolist()[:1000]"
   ]
  },
  {
   "cell_type": "code",
   "execution_count": 20,
   "metadata": {},
   "outputs": [
    {
     "data": {
      "text/plain": [
       "4589"
      ]
     },
     "execution_count": 20,
     "metadata": {},
     "output_type": "execute_result"
    }
   ],
   "source": [
    "all_dois = sorted(list(doi_words.keys()))\n",
    "len(all_dois)"
   ]
  },
  {
   "cell_type": "code",
   "execution_count": 21,
   "metadata": {},
   "outputs": [],
   "source": [
    "df_words = pd.DataFrame(0, index=top_words, columns=all_dois)"
   ]
  },
  {
   "cell_type": "code",
   "execution_count": 22,
   "metadata": {},
   "outputs": [],
   "source": [
    "for inst_doi in all_dois:\n",
    "    inst_words = list(set(doi_words[inst_doi]).intersection(top_words))\n",
    "    df_words.loc[inst_words, inst_doi] = 1"
   ]
  },
  {
   "cell_type": "markdown",
   "metadata": {},
   "source": [
    "### Add Column Categories"
   ]
  },
  {
   "cell_type": "code",
   "execution_count": 23,
   "metadata": {},
   "outputs": [],
   "source": [
    "cols = df_words.columns.tolist()"
   ]
  },
  {
   "cell_type": "code",
   "execution_count": 24,
   "metadata": {},
   "outputs": [],
   "source": [
    "grade_dict = {}\n",
    "for inst_col in cols:\n",
    "    if inst_col in df.index.tolist():\n",
    "        grade_dict[inst_col] = str(df.loc[inst_col, 'Grade'])\\\n",
    "                                 .replace('2-3', '3')\\\n",
    "                                 .replace('2-1', '2')\\\n",
    "                                 .replace('1-2', '2')\\\n",
    "                                 .replace('1/2', '2')\\\n",
    "                                 .replace('nan', 'N.A.').replace('?','')\n",
    "    else:\n",
    "        grade_dict[inst_col] = 'N.A.'"
   ]
  },
  {
   "cell_type": "code",
   "execution_count": 25,
   "metadata": {},
   "outputs": [],
   "source": [
    "\n",
    "new_cols = [(df_meta.loc[x, 'Title'][:50], \n",
    "             'Site: ' + doi_site[x],\n",
    "             'Grade: ' + str(grade_dict[x]),\n",
    "             'Date: ' + str(df_meta.loc[x, 'date']), \n",
    "             'Altmetric: ' + str(df_meta.loc[x, 'altmetric']) )  for x in cols]\n",
    "df_cat = deepcopy(df_words)\n",
    "df_cat.columns = new_cols"
   ]
  },
  {
   "cell_type": "code",
   "execution_count": 26,
   "metadata": {},
   "outputs": [],
   "source": [
    "cat_colors = {}\n",
    "cat_colors['biorxiv'] = 'blue'\n",
    "cat_colors['red'] = 'red'\n",
    "cat_colors['N.A.'] = 'white'\n",
    "cat_colors['nan'] = 'white'\n",
    "cat_colors['1'] = '#FFD700'\n",
    "cat_colors['2'] = '#FF6347'\n",
    "cat_colors['3'] = '#add8e6'"
   ]
  },
  {
   "cell_type": "code",
   "execution_count": 36,
   "metadata": {},
   "outputs": [],
   "source": [
    "ser_sum = df_cat.sum(axis=0)\n",
    "keep_cols = ser_sum[ser_sum > 0].index.tolist()"
   ]
  },
  {
   "cell_type": "code",
   "execution_count": 37,
   "metadata": {},
   "outputs": [
    {
     "name": "stdout",
     "output_type": "stream",
     "text": [
      "warning: making col names unique\n",
      "warning inst_rc argument will be deprecated, please use axis\n"
     ]
    },
    {
     "data": {
      "application/vnd.jupyter.widget-view+json": {
       "model_id": "32aaed0e027542f19283a17dfcb5a1d5",
       "version_major": 2,
       "version_minor": 0
      },
      "text/plain": [
       "ExampleWidget(network='{\"row_nodes\": [{\"name\": \"disease\", \"ini\": 500, \"clust\": 427, \"rank\": 499, \"rankvar\": 49…"
      ]
     },
     "metadata": {},
     "output_type": "display_data"
    }
   ],
   "source": [
    "net.load_df(df_cat[keep_cols])\n",
    "net.set_cat_colors(axis='col', cat_index=1, cat_title='Site', cat_colors=cat_colors)\n",
    "net.set_cat_colors(axis='col', cat_index=2, cat_title='Grade', cat_colors=cat_colors)\n",
    "net.filter_N_top(axis='row', rank_type='sum', N_top=500)\n",
    "net.cluster(dist_type='jaccard')\n",
    "net.widget()"
   ]
  },
  {
   "cell_type": "code",
   "execution_count": null,
   "metadata": {},
   "outputs": [],
   "source": [
    "net.save_dict_to_json(net.viz, '../json_files/heatmap_2020-04-05.json')"
   ]
  },
  {
   "cell_type": "markdown",
   "metadata": {},
   "source": [
    "### Words and Reviews"
   ]
  },
  {
   "cell_type": "code",
   "execution_count": null,
   "metadata": {},
   "outputs": [],
   "source": [
    "# words_list = []\n",
    "# for inst_file in all_files:\n",
    "#     f = open(inst_file, 'r')\n",
    "#     lines = f.readlines()\n",
    "#     f.close()\n",
    "    \n",
    "#     for inst_line in lines:\n",
    "#         inst_line = inst_line.lower()\n",
    "            \n",
    "#         inst_words = inst_line.split(' ')\n",
    "#         inst_words = [x for x in inst_words if '*' not in x]\n",
    "#         words_list.extend(inst_words)"
   ]
  },
  {
   "cell_type": "code",
   "execution_count": null,
   "metadata": {},
   "outputs": [],
   "source": [
    "# pd.Series(words_list).value_counts().head(50)"
   ]
  },
  {
   "cell_type": "code",
   "execution_count": null,
   "metadata": {},
   "outputs": [],
   "source": []
  }
 ],
 "metadata": {
  "kernelspec": {
   "display_name": "Python 3",
   "language": "python",
   "name": "python3"
  },
  "language_info": {
   "codemirror_mode": {
    "name": "ipython",
    "version": 3
   },
   "file_extension": ".py",
   "mimetype": "text/x-python",
   "name": "python",
   "nbconvert_exporter": "python",
   "pygments_lexer": "ipython3",
   "version": "3.6.5"
  }
 },
 "nbformat": 4,
 "nbformat_minor": 2
}
