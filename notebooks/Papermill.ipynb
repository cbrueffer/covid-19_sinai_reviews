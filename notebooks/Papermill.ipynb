{
 "cells": [
  {
   "cell_type": "markdown",
   "metadata": {},
   "source": [
    "# Papermill\n",
    "Execute notebooks to update Altmetrics and generate heatmap JSON."
   ]
  },
  {
   "cell_type": "code",
   "execution_count": 1,
   "metadata": {},
   "outputs": [],
   "source": [
    "import papermill as pm"
   ]
  },
  {
   "cell_type": "code",
   "execution_count": 2,
   "metadata": {
    "scrolled": false
   },
   "outputs": [
    {
     "name": "stdout",
     "output_type": "stream",
     "text": [
      "mkdir: ../papermill_notebooks/: File exists\r\n"
     ]
    },
    {
     "data": {
      "application/vnd.jupyter.widget-view+json": {
       "model_id": "3dbddf2ab9d94dd5bf111b0ac6c13eda",
       "version_major": 2,
       "version_minor": 0
      },
      "text/plain": [
       "HBox(children=(FloatProgress(value=0.0, description='Executing', max=15.0, style=ProgressStyle(description_wid…"
      ]
     },
     "metadata": {},
     "output_type": "display_data"
    },
    {
     "name": "stdout",
     "output_type": "stream",
     "text": [
      "\n"
     ]
    },
    {
     "data": {
      "application/vnd.jupyter.widget-view+json": {
       "model_id": "fba9c75bb5b24ca68b1c4fc4ca1ce0b1",
       "version_major": 2,
       "version_minor": 0
      },
      "text/plain": [
       "HBox(children=(FloatProgress(value=0.0, description='Executing', max=38.0, style=ProgressStyle(description_wid…"
      ]
     },
     "metadata": {},
     "output_type": "display_data"
    },
    {
     "name": "stdout",
     "output_type": "stream",
     "text": [
      "\n"
     ]
    }
   ],
   "source": [
    "!mkdir ../papermill_notebooks/\n",
    "for inst_template in ['1.1.0_Collect_Altmetrics.ipynb', '1.2.0_Heatmap_Papers.ipynb']:\n",
    "    tmp = pm.execute_notebook(\n",
    "        inst_template, \n",
    "        '../papermill_notebooks/' + inst_template\n",
    "    )"
   ]
  },
  {
   "cell_type": "code",
   "execution_count": 3,
   "metadata": {},
   "outputs": [
    {
     "name": "stdout",
     "output_type": "stream",
     "text": [
      "mkdir: ../reports/: File exists\n",
      "[NbConvertApp] Converting notebook ../papermill_notebooks/1.1.0_Collect_Altmetrics.ipynb to html\n",
      "[NbConvertApp] Writing 283994 bytes to ../reports/1.1.0_Collect_Altmetrics.html\n",
      "[NbConvertApp] Converting notebook ../papermill_notebooks/1.2.0_Heatmap_Papers.ipynb to html\n",
      "[NbConvertApp] Writing 4473595 bytes to ../reports/1.2.0_Heatmap_Papers.html\n"
     ]
    }
   ],
   "source": [
    "!mkdir ../reports/\n",
    "!jupyter nbconvert --to html --output-dir='../reports/' ../papermill_notebooks/*"
   ]
  },
  {
   "cell_type": "code",
   "execution_count": null,
   "metadata": {},
   "outputs": [],
   "source": []
  },
  {
   "cell_type": "code",
   "execution_count": null,
   "metadata": {},
   "outputs": [],
   "source": []
  }
 ],
 "metadata": {
  "kernelspec": {
   "display_name": "Python 3",
   "language": "python",
   "name": "python3"
  },
  "language_info": {
   "codemirror_mode": {
    "name": "ipython",
    "version": 3
   },
   "file_extension": ".py",
   "mimetype": "text/x-python",
   "name": "python",
   "nbconvert_exporter": "python",
   "pygments_lexer": "ipython3",
   "version": "3.6.5"
  }
 },
 "nbformat": 4,
 "nbformat_minor": 2
}
