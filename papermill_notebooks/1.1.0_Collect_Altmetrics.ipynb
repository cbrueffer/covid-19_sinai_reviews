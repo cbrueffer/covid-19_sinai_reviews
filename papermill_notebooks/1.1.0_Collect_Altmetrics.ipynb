{
 "cells": [
  {
   "cell_type": "markdown",
   "metadata": {
    "papermill": {
     "duration": 0.00951,
     "end_time": "2020-04-23T03:21:14.984917",
     "exception": false,
     "start_time": "2020-04-23T03:21:14.975407",
     "status": "completed"
    },
    "tags": []
   },
   "source": [
    "# 1.1.0 Collect Altmetrics"
   ]
  },
  {
   "cell_type": "code",
   "execution_count": 1,
   "metadata": {
    "papermill": {
     "duration": 1.459606,
     "end_time": "2020-04-23T03:21:16.455482",
     "exception": false,
     "start_time": "2020-04-23T03:21:14.995876",
     "status": "completed"
    },
    "tags": []
   },
   "outputs": [
    {
     "name": "stdout",
     "output_type": "stream",
     "text": [
      ">> clustergrammer2 backend version 0.6.0\n"
     ]
    }
   ],
   "source": [
    "import pandas as pd\n",
    "import requests\n",
    "from glob import glob\n",
    "import json\n",
    "from clustergrammer2 import net"
   ]
  },
  {
   "cell_type": "code",
   "execution_count": 2,
   "metadata": {
    "papermill": {
     "duration": 0.02024,
     "end_time": "2020-04-23T03:21:16.485382",
     "exception": false,
     "start_time": "2020-04-23T03:21:16.465142",
     "status": "completed"
    },
    "tags": []
   },
   "outputs": [
    {
     "data": {
      "text/plain": [
       "127"
      ]
     },
     "execution_count": 2,
     "metadata": {},
     "output_type": "execute_result"
    }
   ],
   "source": [
    "all_files = glob('../markdown_files/*.md')\n",
    "len(all_files)"
   ]
  },
  {
   "cell_type": "markdown",
   "metadata": {
    "papermill": {
     "duration": 0.007553,
     "end_time": "2020-04-23T03:21:16.501947",
     "exception": false,
     "start_time": "2020-04-23T03:21:16.494394",
     "status": "completed"
    },
    "tags": []
   },
   "source": [
    "### Get the Latest Papers"
   ]
  },
  {
   "cell_type": "code",
   "execution_count": 3,
   "metadata": {
    "papermill": {
     "duration": 0.013847,
     "end_time": "2020-04-23T03:21:16.524316",
     "exception": false,
     "start_time": "2020-04-23T03:21:16.510469",
     "status": "completed"
    },
    "tags": []
   },
   "outputs": [],
   "source": [
    "url = 'https://connect.biorxiv.org/relate/collection_json.php?grp=181'"
   ]
  },
  {
   "cell_type": "code",
   "execution_count": 4,
   "metadata": {
    "papermill": {
     "duration": 1.48347,
     "end_time": "2020-04-23T03:21:18.016023",
     "exception": false,
     "start_time": "2020-04-23T03:21:16.532553",
     "status": "completed"
    },
    "tags": []
   },
   "outputs": [],
   "source": [
    "r = requests.get(url)"
   ]
  },
  {
   "cell_type": "code",
   "execution_count": 5,
   "metadata": {
    "papermill": {
     "duration": 0.104532,
     "end_time": "2020-04-23T03:21:18.135022",
     "exception": false,
     "start_time": "2020-04-23T03:21:18.030490",
     "status": "completed"
    },
    "tags": []
   },
   "outputs": [],
   "source": [
    "req_dict = json.loads(r.text)"
   ]
  },
  {
   "cell_type": "markdown",
   "metadata": {
    "papermill": {
     "duration": 0.012391,
     "end_time": "2020-04-23T03:21:18.160030",
     "exception": false,
     "start_time": "2020-04-23T03:21:18.147639",
     "status": "completed"
    },
    "tags": []
   },
   "source": [
    "### Update Altmetric Scores and Links"
   ]
  },
  {
   "cell_type": "code",
   "execution_count": 6,
   "metadata": {
    "papermill": {
     "duration": 0.020777,
     "end_time": "2020-04-23T03:21:18.192456",
     "exception": false,
     "start_time": "2020-04-23T03:21:18.171679",
     "status": "completed"
    },
    "tags": []
   },
   "outputs": [],
   "source": [
    "altmetric_base_url = 'http://api.altmetric.com/v1/doi/'"
   ]
  },
  {
   "cell_type": "code",
   "execution_count": 7,
   "metadata": {
    "papermill": {
     "duration": 0.019558,
     "end_time": "2020-04-23T03:21:18.223256",
     "exception": false,
     "start_time": "2020-04-23T03:21:18.203698",
     "status": "completed"
    },
    "tags": []
   },
   "outputs": [],
   "source": [
    "altmetric_scores = {}\n",
    "altmetric_details_url = {}"
   ]
  },
  {
   "cell_type": "code",
   "execution_count": 8,
   "metadata": {
    "papermill": {
     "duration": 431.873176,
     "end_time": "2020-04-23T03:28:30.107565",
     "exception": false,
     "start_time": "2020-04-23T03:21:18.234389",
     "status": "completed"
    },
    "scrolled": false,
    "tags": []
   },
   "outputs": [
    {
     "name": "stdout",
     "output_type": "stream",
     "text": [
      "number of papers 2056\n"
     ]
    }
   ],
   "source": [
    "doi_words = {}\n",
    "all_words = []\n",
    "arr_papers = req_dict['rels']\n",
    "print('number of papers', len(arr_papers))\n",
    "for inst_paper in arr_papers:\n",
    "    inst_doi = inst_paper['rel_doi']\n",
    "    \n",
    "    r = requests.get(altmetric_base_url + inst_doi)\n",
    "    \n",
    "    if r.text != 'Not Found':\n",
    "        alt_req_dict = json.loads(r.text)\n",
    "\n",
    "        altmetric_scores[inst_doi] = alt_req_dict['score']\n",
    "        altmetric_details_url[inst_doi] = alt_req_dict['details_url']"
   ]
  },
  {
   "cell_type": "code",
   "execution_count": 9,
   "metadata": {
    "papermill": {
     "duration": 0.01755,
     "end_time": "2020-04-23T03:28:30.152407",
     "exception": false,
     "start_time": "2020-04-23T03:28:30.134857",
     "status": "completed"
    },
    "tags": []
   },
   "outputs": [
    {
     "data": {
      "text/plain": [
       "'{\"title\":\"Functional enrichments of disease variants across thousands of independent loci in eight diseases\",\"doi\":\"10.1101/048066\",\"altmetric_jid\":\"532721422a83ee84788b4567\",\"journal\":\"bioRxiv\",\"cohorts\":{\"pub\":7,\"sci\":4},\"context\":{\"all\":{\"count\":11342964,\"mean\":7.2415172243698,\"rank\":2400965,\"pct\":78,\"higher_than\":8933695},\"journal\":{\"count\":26744,\"mean\":14.451070485735,\"rank\":15131,\"pct\":42,\"higher_than\":11496},\"similar_age_3m\":{\"count\":282156,\"mean\":11.730294745796,\"rank\":69797,\"pct\":75,\"higher_than\":212070},\"similar_age_journal_3m\":{\"count\":1085,\"mean\":16.399411439114,\"rank\":574,\"pct\":46,\"higher_than\":508}},\"authors\":[\"Abhishek K Sarkar\",\"Lucas D. Ward\",\"Manolis Kellis\"],\"type\":\"article\",\"altmetric_id\":6616875,\"schema\":\"1.5.4\",\"is_oa\":false,\"cited_by_posts_count\":11,\"cited_by_tweeters_count\":11,\"cited_by_accounts_count\":11,\"last_updated\":1460576495,\"score\":5.35,\"history\":{\"1y\":0,\"6m\":0,\"3m\":0,\"1m\":0,\"1w\":0,\"6d\":0,\"5d\":0,\"4d\":0,\"3d\":0,\"2d\":0,\"1d\":0,\"at\":5.35},\"url\":\"http://dx.doi.org/10.1101/048066\",\"added_on\":1460412027,\"published_on\":1460332800,\"readers\":{\"citeulike\":\"0\",\"mendeley\":\"21\",\"connotea\":\"0\"},\"readers_count\":21,\"images\":{\"small\":\"https://badges.altmetric.com/?size=64&score=6&types=tttttttt\",\"medium\":\"https://badges.altmetric.com/?size=100&score=6&types=tttttttt\",\"large\":\"https://badges.altmetric.com/?size=180&score=6&types=tttttttt\"},\"details_url\":\"http://www.altmetric.com/details.php?citation_id=6616875\"}'"
      ]
     },
     "execution_count": 9,
     "metadata": {},
     "output_type": "execute_result"
    }
   ],
   "source": [
    "r.text"
   ]
  },
  {
   "cell_type": "markdown",
   "metadata": {
    "papermill": {
     "duration": 0.007158,
     "end_time": "2020-04-23T03:28:30.167293",
     "exception": false,
     "start_time": "2020-04-23T03:28:30.160135",
     "status": "completed"
    },
    "tags": []
   },
   "source": [
    "### Save Scores and Links to JSON Document"
   ]
  },
  {
   "cell_type": "code",
   "execution_count": 10,
   "metadata": {
    "papermill": {
     "duration": 0.161066,
     "end_time": "2020-04-23T03:28:30.335579",
     "exception": false,
     "start_time": "2020-04-23T03:28:30.174513",
     "status": "completed"
    },
    "tags": []
   },
   "outputs": [
    {
     "name": "stdout",
     "output_type": "stream",
     "text": [
      "mkdir: ../altmetric_data/: File exists\r\n"
     ]
    }
   ],
   "source": [
    "!mkdir ../altmetric_data/\n",
    "net.save_dict_to_json(altmetric_scores, '../altmetric_data/altmetric_scores.json')\n",
    "net.save_dict_to_json(altmetric_scores, '../altmetric_data/altmetric_details_url.json')"
   ]
  },
  {
   "cell_type": "code",
   "execution_count": null,
   "metadata": {
    "papermill": {
     "duration": 0.008593,
     "end_time": "2020-04-23T03:28:30.354918",
     "exception": false,
     "start_time": "2020-04-23T03:28:30.346325",
     "status": "completed"
    },
    "tags": []
   },
   "outputs": [],
   "source": []
  }
 ],
 "metadata": {
  "kernelspec": {
   "display_name": "Python 3",
   "language": "python",
   "name": "python3"
  },
  "language_info": {
   "codemirror_mode": {
    "name": "ipython",
    "version": 3
   },
   "file_extension": ".py",
   "mimetype": "text/x-python",
   "name": "python",
   "nbconvert_exporter": "python",
   "pygments_lexer": "ipython3",
   "version": "3.6.5"
  },
  "papermill": {
   "duration": 436.572013,
   "end_time": "2020-04-23T03:28:30.793894",
   "environment_variables": {},
   "exception": null,
   "input_path": "1.1.0_Collect_Altmetrics.ipynb",
   "output_path": "../papermill_notebooks/1.1.0_Collect_Altmetrics.ipynb",
   "parameters": {},
   "start_time": "2020-04-23T03:21:14.221881",
   "version": "1.2.1"
  }
 },
 "nbformat": 4,
 "nbformat_minor": 2
}