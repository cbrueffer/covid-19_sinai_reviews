{
 "cells": [
  {
   "cell_type": "markdown",
   "metadata": {
    "papermill": {
     "duration": 0.008697,
     "end_time": "2020-04-17T02:44:36.446769",
     "exception": false,
     "start_time": "2020-04-17T02:44:36.438072",
     "status": "completed"
    },
    "tags": []
   },
   "source": [
    "# 1.1.0 Collect Altmetrics"
   ]
  },
  {
   "cell_type": "code",
   "execution_count": 1,
   "metadata": {
    "papermill": {
     "duration": 1.447802,
     "end_time": "2020-04-17T02:44:37.903461",
     "exception": false,
     "start_time": "2020-04-17T02:44:36.455659",
     "status": "completed"
    },
    "tags": []
   },
   "outputs": [],
   "source": [
    "import pandas as pd\n",
    "import requests\n",
    "from glob import glob\n",
    "import json\n",
    "from clustergrammer2 import net"
   ]
  },
  {
   "cell_type": "code",
   "execution_count": 2,
   "metadata": {
    "papermill": {
     "duration": 0.015981,
     "end_time": "2020-04-17T02:44:37.928686",
     "exception": false,
     "start_time": "2020-04-17T02:44:37.912705",
     "status": "completed"
    },
    "tags": []
   },
   "outputs": [
    {
     "data": {
      "text/plain": [
       "121"
      ]
     },
     "execution_count": 2,
     "metadata": {},
     "output_type": "execute_result"
    }
   ],
   "source": [
    "all_files = glob('../markdown_files/*.md')\n",
    "len(all_files)"
   ]
  },
  {
   "cell_type": "markdown",
   "metadata": {
    "papermill": {
     "duration": 0.006676,
     "end_time": "2020-04-17T02:44:37.943007",
     "exception": false,
     "start_time": "2020-04-17T02:44:37.936331",
     "status": "completed"
    },
    "tags": []
   },
   "source": [
    "### Get the Latest Papers"
   ]
  },
  {
   "cell_type": "code",
   "execution_count": 3,
   "metadata": {
    "papermill": {
     "duration": 0.012032,
     "end_time": "2020-04-17T02:44:37.962105",
     "exception": false,
     "start_time": "2020-04-17T02:44:37.950073",
     "status": "completed"
    },
    "tags": []
   },
   "outputs": [],
   "source": [
    "url = 'https://connect.biorxiv.org/relate/collection_json.php?grp=181'"
   ]
  },
  {
   "cell_type": "code",
   "execution_count": 4,
   "metadata": {
    "papermill": {
     "duration": 2.172855,
     "end_time": "2020-04-17T02:44:40.141704",
     "exception": false,
     "start_time": "2020-04-17T02:44:37.968849",
     "status": "completed"
    },
    "tags": []
   },
   "outputs": [],
   "source": [
    "r = requests.get(url)"
   ]
  },
  {
   "cell_type": "code",
   "execution_count": 5,
   "metadata": {
    "papermill": {
     "duration": 0.063441,
     "end_time": "2020-04-17T02:44:40.214911",
     "exception": false,
     "start_time": "2020-04-17T02:44:40.151470",
     "status": "completed"
    },
    "tags": []
   },
   "outputs": [],
   "source": [
    "req_dict = json.loads(r.text)"
   ]
  },
  {
   "cell_type": "markdown",
   "metadata": {
    "papermill": {
     "duration": 0.007111,
     "end_time": "2020-04-17T02:44:40.228983",
     "exception": false,
     "start_time": "2020-04-17T02:44:40.221872",
     "status": "completed"
    },
    "tags": []
   },
   "source": [
    "### Update Altmetric Scores and Links"
   ]
  },
  {
   "cell_type": "code",
   "execution_count": 6,
   "metadata": {
    "papermill": {
     "duration": 0.013179,
     "end_time": "2020-04-17T02:44:40.249025",
     "exception": false,
     "start_time": "2020-04-17T02:44:40.235846",
     "status": "completed"
    },
    "tags": []
   },
   "outputs": [],
   "source": [
    "altmetric_base_url = 'http://api.altmetric.com/v1/doi/'"
   ]
  },
  {
   "cell_type": "code",
   "execution_count": 7,
   "metadata": {
    "papermill": {
     "duration": 0.012876,
     "end_time": "2020-04-17T02:44:40.270501",
     "exception": false,
     "start_time": "2020-04-17T02:44:40.257625",
     "status": "completed"
    },
    "tags": []
   },
   "outputs": [],
   "source": [
    "altmetric_scores = {}\n",
    "altmetric_details_url = {}"
   ]
  },
  {
   "cell_type": "code",
   "execution_count": 8,
   "metadata": {
    "papermill": {
     "duration": 369.479067,
     "end_time": "2020-04-17T02:50:49.757090",
     "exception": false,
     "start_time": "2020-04-17T02:44:40.278023",
     "status": "completed"
    },
    "scrolled": false,
    "tags": []
   },
   "outputs": [
    {
     "name": "stdout",
     "output_type": "stream",
     "text": [
      "number of papers 1713\n"
     ]
    }
   ],
   "source": [
    "doi_words = {}\n",
    "all_words = []\n",
    "arr_papers = req_dict['rels']\n",
    "print('number of papers', len(arr_papers))\n",
    "for inst_paper in arr_papers:\n",
    "    inst_doi = inst_paper['rel_doi']\n",
    "    \n",
    "    r = requests.get(altmetric_base_url + inst_doi)\n",
    "    \n",
    "    if r.text != 'Not Found':\n",
    "        alt_req_dict = json.loads(r.text)\n",
    "\n",
    "        altmetric_scores[inst_doi] = alt_req_dict['score']\n",
    "        altmetric_details_url[inst_doi] = alt_req_dict['details_url']"
   ]
  },
  {
   "cell_type": "code",
   "execution_count": 9,
   "metadata": {
    "papermill": {
     "duration": 0.019502,
     "end_time": "2020-04-17T02:50:49.794814",
     "exception": false,
     "start_time": "2020-04-17T02:50:49.775312",
     "status": "completed"
    },
    "tags": []
   },
   "outputs": [
    {
     "data": {
      "text/plain": [
       "'{\"title\":\"Structure-Guided Mutagenesis Alters Deubiquitinating Activity and Attenuates Pathogenesis of a Murine Coronavirus\",\"doi\":\"10.1101/782409\",\"altmetric_jid\":\"532721422a83ee84788b4567\",\"journal\":\"bioRxiv\",\"cohorts\":{\"pub\":10},\"context\":{\"all\":{\"count\":14570777,\"mean\":8.5190857934991,\"rank\":2372391,\"pct\":83,\"higher_than\":12193103},\"journal\":{\"count\":76572,\"mean\":13.04742119079,\"rank\":32407,\"pct\":57,\"higher_than\":44016},\"similar_age_3m\":{\"count\":264206,\"mean\":12.976958255899,\"rank\":63001,\"pct\":76,\"higher_than\":201011},\"similar_age_journal_3m\":{\"count\":7675,\"mean\":11.177563200417,\"rank\":3013,\"pct\":60,\"higher_than\":4653}},\"authors\":[\"Deng, Xufang\",\"Chen, Yafang\",\"Mielech, Anna M.\",\"Hackbart, Matthew\",\"Kesely, Kristina R.\",\"Mettelman, Robert C.\",\"O’Brien, Amornrat\",\"Chapman, Mackenzie E.\",\"Mesecar, Andrew D.\",\"Baker, Susan C.\"],\"type\":\"article\",\"altmetric_id\":67153698,\"schema\":\"1.5.4\",\"is_oa\":false,\"cited_by_posts_count\":10,\"cited_by_tweeters_count\":10,\"cited_by_accounts_count\":10,\"last_updated\":1584983303,\"score\":7.45,\"history\":{\"1y\":7.45,\"6m\":7.2,\"3m\":7.2,\"1m\":0.25,\"1w\":0,\"6d\":0,\"5d\":0,\"4d\":0,\"3d\":0,\"2d\":0,\"1d\":0,\"at\":7.45},\"url\":\"http://dx.doi.org/10.1101/782409\",\"added_on\":1569490905,\"readers\":{\"citeulike\":0,\"mendeley\":0,\"connotea\":0},\"readers_count\":0,\"images\":{\"small\":\"https://badges.altmetric.com/?size=64&score=8&types=tttttttt\",\"medium\":\"https://badges.altmetric.com/?size=100&score=8&types=tttttttt\",\"large\":\"https://badges.altmetric.com/?size=180&score=8&types=tttttttt\"},\"details_url\":\"http://www.altmetric.com/details.php?citation_id=67153698\"}'"
      ]
     },
     "execution_count": 9,
     "metadata": {},
     "output_type": "execute_result"
    }
   ],
   "source": [
    "r.text"
   ]
  },
  {
   "cell_type": "markdown",
   "metadata": {
    "papermill": {
     "duration": 0.007675,
     "end_time": "2020-04-17T02:50:49.811259",
     "exception": false,
     "start_time": "2020-04-17T02:50:49.803584",
     "status": "completed"
    },
    "tags": []
   },
   "source": [
    "### Save Scores and Links to JSON Document"
   ]
  },
  {
   "cell_type": "code",
   "execution_count": 10,
   "metadata": {
    "papermill": {
     "duration": 0.149799,
     "end_time": "2020-04-17T02:50:49.968673",
     "exception": false,
     "start_time": "2020-04-17T02:50:49.818874",
     "status": "completed"
    },
    "tags": []
   },
   "outputs": [
    {
     "name": "stdout",
     "output_type": "stream",
     "text": [
      "mkdir: ../altmetric_data/: File exists\r\n"
     ]
    }
   ],
   "source": [
    "!mkdir ../altmetric_data/\n",
    "net.save_dict_to_json(altmetric_scores, '../altmetric_data/altmetric_scores.json')\n",
    "net.save_dict_to_json(altmetric_scores, '../altmetric_data/altmetric_details_url.json')"
   ]
  },
  {
   "cell_type": "code",
   "execution_count": null,
   "metadata": {
    "papermill": {
     "duration": 0.010161,
     "end_time": "2020-04-17T02:50:49.990506",
     "exception": false,
     "start_time": "2020-04-17T02:50:49.980345",
     "status": "completed"
    },
    "tags": []
   },
   "outputs": [],
   "source": []
  }
 ],
 "metadata": {
  "kernelspec": {
   "display_name": "Python 3",
   "language": "python",
   "name": "python3"
  },
  "language_info": {
   "codemirror_mode": {
    "name": "ipython",
    "version": 3
   },
   "file_extension": ".py",
   "mimetype": "text/x-python",
   "name": "python",
   "nbconvert_exporter": "python",
   "pygments_lexer": "ipython3",
   "version": "3.6.5"
  },
  "papermill": {
   "duration": 374.846129,
   "end_time": "2020-04-17T02:50:50.530663",
   "environment_variables": {},
   "exception": null,
   "input_path": "1.1.0_Collect_Altmetrics.ipynb",
   "output_path": "../papermill_notebooks/1.1.0_Collect_Altmetrics.ipynb",
   "parameters": {},
   "start_time": "2020-04-17T02:44:35.684534",
   "version": "1.2.1"
  }
 },
 "nbformat": 4,
 "nbformat_minor": 2
}