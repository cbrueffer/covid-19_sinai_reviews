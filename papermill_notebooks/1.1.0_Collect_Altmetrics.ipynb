{
 "cells": [
  {
   "cell_type": "markdown",
   "metadata": {
    "papermill": {
     "duration": 0.009737,
     "end_time": "2020-04-14T13:10:59.816753",
     "exception": false,
     "start_time": "2020-04-14T13:10:59.807016",
     "status": "completed"
    },
    "tags": []
   },
   "source": [
    "# 1.1.0 Collect Altmetrics"
   ]
  },
  {
   "cell_type": "code",
   "execution_count": 1,
   "metadata": {
    "papermill": {
     "duration": 1.549698,
     "end_time": "2020-04-14T13:11:01.375642",
     "exception": false,
     "start_time": "2020-04-14T13:10:59.825944",
     "status": "completed"
    },
    "tags": []
   },
   "outputs": [],
   "source": [
    "import pandas as pd\n",
    "import requests\n",
    "from glob import glob\n",
    "import json\n",
    "from clustergrammer2 import net"
   ]
  },
  {
   "cell_type": "code",
   "execution_count": 2,
   "metadata": {
    "papermill": {
     "duration": 0.016526,
     "end_time": "2020-04-14T13:11:01.400390",
     "exception": false,
     "start_time": "2020-04-14T13:11:01.383864",
     "status": "completed"
    },
    "tags": []
   },
   "outputs": [
    {
     "data": {
      "text/plain": [
       "116"
      ]
     },
     "execution_count": 2,
     "metadata": {},
     "output_type": "execute_result"
    }
   ],
   "source": [
    "all_files = glob('../markdown_files/*.md')\n",
    "len(all_files)"
   ]
  },
  {
   "cell_type": "markdown",
   "metadata": {
    "papermill": {
     "duration": 0.007138,
     "end_time": "2020-04-14T13:11:01.414395",
     "exception": false,
     "start_time": "2020-04-14T13:11:01.407257",
     "status": "completed"
    },
    "tags": []
   },
   "source": [
    "### Get the Latest Papers"
   ]
  },
  {
   "cell_type": "code",
   "execution_count": 3,
   "metadata": {
    "papermill": {
     "duration": 0.012369,
     "end_time": "2020-04-14T13:11:01.433960",
     "exception": false,
     "start_time": "2020-04-14T13:11:01.421591",
     "status": "completed"
    },
    "tags": []
   },
   "outputs": [],
   "source": [
    "url = 'https://connect.biorxiv.org/relate/collection_json.php?grp=181'"
   ]
  },
  {
   "cell_type": "code",
   "execution_count": 4,
   "metadata": {
    "papermill": {
     "duration": 1.340483,
     "end_time": "2020-04-14T13:11:02.781059",
     "exception": false,
     "start_time": "2020-04-14T13:11:01.440576",
     "status": "completed"
    },
    "tags": []
   },
   "outputs": [],
   "source": [
    "r = requests.get(url)"
   ]
  },
  {
   "cell_type": "code",
   "execution_count": 5,
   "metadata": {
    "papermill": {
     "duration": 0.057723,
     "end_time": "2020-04-14T13:11:02.848708",
     "exception": false,
     "start_time": "2020-04-14T13:11:02.790985",
     "status": "completed"
    },
    "tags": []
   },
   "outputs": [],
   "source": [
    "req_dict = json.loads(r.text)"
   ]
  },
  {
   "cell_type": "markdown",
   "metadata": {
    "papermill": {
     "duration": 0.006434,
     "end_time": "2020-04-14T13:11:02.861856",
     "exception": false,
     "start_time": "2020-04-14T13:11:02.855422",
     "status": "completed"
    },
    "tags": []
   },
   "source": [
    "### Update Altmetric Scores and Links"
   ]
  },
  {
   "cell_type": "code",
   "execution_count": 6,
   "metadata": {
    "papermill": {
     "duration": 0.012551,
     "end_time": "2020-04-14T13:11:02.881047",
     "exception": false,
     "start_time": "2020-04-14T13:11:02.868496",
     "status": "completed"
    },
    "tags": []
   },
   "outputs": [],
   "source": [
    "altmetric_base_url = 'http://api.altmetric.com/v1/doi/'"
   ]
  },
  {
   "cell_type": "code",
   "execution_count": 7,
   "metadata": {
    "papermill": {
     "duration": 0.013015,
     "end_time": "2020-04-14T13:11:02.900726",
     "exception": false,
     "start_time": "2020-04-14T13:11:02.887711",
     "status": "completed"
    },
    "tags": []
   },
   "outputs": [],
   "source": [
    "altmetric_scores = {}\n",
    "altmetric_details_url = {}"
   ]
  },
  {
   "cell_type": "code",
   "execution_count": 8,
   "metadata": {
    "papermill": {
     "duration": 333.231137,
     "end_time": "2020-04-14T13:16:36.139563",
     "exception": false,
     "start_time": "2020-04-14T13:11:02.908426",
     "status": "completed"
    },
    "scrolled": false,
    "tags": []
   },
   "outputs": [
    {
     "name": "stdout",
     "output_type": "stream",
     "text": [
      "number of papers 1597\n"
     ]
    }
   ],
   "source": [
    "doi_words = {}\n",
    "all_words = []\n",
    "arr_papers = req_dict['rels']\n",
    "print('number of papers', len(arr_papers))\n",
    "for inst_paper in arr_papers:\n",
    "    inst_doi = inst_paper['rel_doi']\n",
    "    \n",
    "    r = requests.get(altmetric_base_url + inst_doi)\n",
    "    \n",
    "    if r.text != 'Not Found':\n",
    "        alt_req_dict = json.loads(r.text)\n",
    "\n",
    "        altmetric_scores[inst_doi] = alt_req_dict['score']\n",
    "        altmetric_details_url[inst_doi] = alt_req_dict['details_url']"
   ]
  },
  {
   "cell_type": "code",
   "execution_count": 9,
   "metadata": {
    "papermill": {
     "duration": 0.017828,
     "end_time": "2020-04-14T13:16:36.168010",
     "exception": false,
     "start_time": "2020-04-14T13:16:36.150182",
     "status": "completed"
    },
    "tags": []
   },
   "outputs": [
    {
     "data": {
      "text/plain": [
       "'{\"title\":\"Structure-Guided Mutagenesis Alters Deubiquitinating Activity and Attenuates Pathogenesis of a Murine Coronavirus\",\"doi\":\"10.1101/782409\",\"altmetric_jid\":\"532721422a83ee84788b4567\",\"journal\":\"bioRxiv\",\"cohorts\":{\"pub\":10},\"context\":{\"all\":{\"count\":14570777,\"mean\":8.5190857934991,\"rank\":2372391,\"pct\":83,\"higher_than\":12193103},\"journal\":{\"count\":76572,\"mean\":13.04742119079,\"rank\":32407,\"pct\":57,\"higher_than\":44016},\"similar_age_3m\":{\"count\":264206,\"mean\":12.976958255899,\"rank\":63001,\"pct\":76,\"higher_than\":201011},\"similar_age_journal_3m\":{\"count\":7675,\"mean\":11.177563200417,\"rank\":3013,\"pct\":60,\"higher_than\":4653}},\"authors\":[\"Deng, Xufang\",\"Chen, Yafang\",\"Mielech, Anna M.\",\"Hackbart, Matthew\",\"Kesely, Kristina R.\",\"Mettelman, Robert C.\",\"O’Brien, Amornrat\",\"Chapman, Mackenzie E.\",\"Mesecar, Andrew D.\",\"Baker, Susan C.\"],\"type\":\"article\",\"altmetric_id\":67153698,\"schema\":\"1.5.4\",\"is_oa\":false,\"cited_by_posts_count\":10,\"cited_by_tweeters_count\":10,\"cited_by_accounts_count\":10,\"last_updated\":1584983303,\"score\":7.45,\"history\":{\"1y\":7.45,\"6m\":7.2,\"3m\":7.2,\"1m\":0.25,\"1w\":0,\"6d\":0,\"5d\":0,\"4d\":0,\"3d\":0,\"2d\":0,\"1d\":0,\"at\":7.45},\"url\":\"http://dx.doi.org/10.1101/782409\",\"added_on\":1569490905,\"readers\":{\"citeulike\":0,\"mendeley\":0,\"connotea\":0},\"readers_count\":0,\"images\":{\"small\":\"https://badges.altmetric.com/?size=64&score=8&types=tttttttt\",\"medium\":\"https://badges.altmetric.com/?size=100&score=8&types=tttttttt\",\"large\":\"https://badges.altmetric.com/?size=180&score=8&types=tttttttt\"},\"details_url\":\"http://www.altmetric.com/details.php?citation_id=67153698\"}'"
      ]
     },
     "execution_count": 9,
     "metadata": {},
     "output_type": "execute_result"
    }
   ],
   "source": [
    "r.text"
   ]
  },
  {
   "cell_type": "markdown",
   "metadata": {
    "papermill": {
     "duration": 0.008166,
     "end_time": "2020-04-14T13:16:36.185016",
     "exception": false,
     "start_time": "2020-04-14T13:16:36.176850",
     "status": "completed"
    },
    "tags": []
   },
   "source": [
    "### Save Scores and Links to JSON Document"
   ]
  },
  {
   "cell_type": "code",
   "execution_count": 10,
   "metadata": {
    "papermill": {
     "duration": 0.140827,
     "end_time": "2020-04-14T13:16:36.334603",
     "exception": false,
     "start_time": "2020-04-14T13:16:36.193776",
     "status": "completed"
    },
    "tags": []
   },
   "outputs": [
    {
     "name": "stdout",
     "output_type": "stream",
     "text": [
      "mkdir: ../altmetric_data/: File exists\r\n"
     ]
    }
   ],
   "source": [
    "!mkdir ../altmetric_data/\n",
    "net.save_dict_to_json(altmetric_scores, '../altmetric_data/altmetric_scores.json')\n",
    "net.save_dict_to_json(altmetric_scores, '../altmetric_data/altmetric_details_url.json')"
   ]
  },
  {
   "cell_type": "code",
   "execution_count": null,
   "metadata": {
    "papermill": {
     "duration": 0.007717,
     "end_time": "2020-04-14T13:16:36.352315",
     "exception": false,
     "start_time": "2020-04-14T13:16:36.344598",
     "status": "completed"
    },
    "tags": []
   },
   "outputs": [],
   "source": []
  }
 ],
 "metadata": {
  "kernelspec": {
   "display_name": "Python 3",
   "language": "python",
   "name": "python3"
  },
  "language_info": {
   "codemirror_mode": {
    "name": "ipython",
    "version": 3
   },
   "file_extension": ".py",
   "mimetype": "text/x-python",
   "name": "python",
   "nbconvert_exporter": "python",
   "pygments_lexer": "ipython3",
   "version": "3.6.5"
  },
  "papermill": {
   "duration": 337.644725,
   "end_time": "2020-04-14T13:16:36.791216",
   "environment_variables": {},
   "exception": null,
   "input_path": "1.1.0_Collect_Altmetrics.ipynb",
   "output_path": "../papermill_notebooks/1.1.0_Collect_Altmetrics.ipynb",
   "parameters": {},
   "start_time": "2020-04-14T13:10:59.146491",
   "version": "1.2.1"
  }
 },
 "nbformat": 4,
 "nbformat_minor": 2
}