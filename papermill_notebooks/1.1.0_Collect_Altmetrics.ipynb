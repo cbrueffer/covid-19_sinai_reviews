{
 "cells": [
  {
   "cell_type": "markdown",
   "metadata": {
    "papermill": {
     "duration": 0.010276,
     "end_time": "2020-06-03T09:45:12.682163",
     "exception": false,
     "start_time": "2020-06-03T09:45:12.671887",
     "status": "completed"
    },
    "tags": []
   },
   "source": [
    "# 1.1.0 Collect Altmetrics"
   ]
  },
  {
   "cell_type": "code",
   "execution_count": 1,
   "metadata": {
    "papermill": {
     "duration": 1.64583,
     "end_time": "2020-06-03T09:45:14.337849",
     "exception": false,
     "start_time": "2020-06-03T09:45:12.692019",
     "status": "completed"
    },
    "tags": []
   },
   "outputs": [
    {
     "name": "stdout",
     "output_type": "stream",
     "text": [
      ">> clustergrammer2 backend version 0.13.1\n"
     ]
    },
    {
     "name": "stdout",
     "output_type": "stream",
     "text": [
      "initialize meta_cet False\n"
     ]
    }
   ],
   "source": [
    "import pandas as pd\n",
    "import requests\n",
    "from glob import glob\n",
    "import json\n",
    "from clustergrammer2 import net"
   ]
  },
  {
   "cell_type": "code",
   "execution_count": 2,
   "metadata": {
    "papermill": {
     "duration": 0.019775,
     "end_time": "2020-06-03T09:45:14.365489",
     "exception": false,
     "start_time": "2020-06-03T09:45:14.345714",
     "status": "completed"
    },
    "tags": []
   },
   "outputs": [
    {
     "data": {
      "text/plain": [
       "190"
      ]
     },
     "execution_count": 2,
     "metadata": {},
     "output_type": "execute_result"
    }
   ],
   "source": [
    "all_files = glob('../markdown_files/*.md')\n",
    "len(all_files)"
   ]
  },
  {
   "cell_type": "markdown",
   "metadata": {
    "papermill": {
     "duration": 0.00837,
     "end_time": "2020-06-03T09:45:14.382198",
     "exception": false,
     "start_time": "2020-06-03T09:45:14.373828",
     "status": "completed"
    },
    "tags": []
   },
   "source": [
    "### Get the Latest Papers"
   ]
  },
  {
   "cell_type": "code",
   "execution_count": 3,
   "metadata": {
    "papermill": {
     "duration": 0.013009,
     "end_time": "2020-06-03T09:45:14.402906",
     "exception": false,
     "start_time": "2020-06-03T09:45:14.389897",
     "status": "completed"
    },
    "tags": []
   },
   "outputs": [],
   "source": [
    "url = 'https://connect.biorxiv.org/relate/collection_json.php?grp=181'"
   ]
  },
  {
   "cell_type": "code",
   "execution_count": 4,
   "metadata": {
    "papermill": {
     "duration": 7.134275,
     "end_time": "2020-06-03T09:45:21.544244",
     "exception": false,
     "start_time": "2020-06-03T09:45:14.409969",
     "status": "completed"
    },
    "tags": []
   },
   "outputs": [],
   "source": [
    "r = requests.get(url)"
   ]
  },
  {
   "cell_type": "code",
   "execution_count": 5,
   "metadata": {
    "papermill": {
     "duration": 0.218556,
     "end_time": "2020-06-03T09:45:21.773558",
     "exception": false,
     "start_time": "2020-06-03T09:45:21.555002",
     "status": "completed"
    },
    "tags": []
   },
   "outputs": [],
   "source": [
    "req_dict = json.loads(r.text)"
   ]
  },
  {
   "cell_type": "markdown",
   "metadata": {
    "papermill": {
     "duration": 0.007279,
     "end_time": "2020-06-03T09:45:21.790140",
     "exception": false,
     "start_time": "2020-06-03T09:45:21.782861",
     "status": "completed"
    },
    "tags": []
   },
   "source": [
    "### Update Altmetric Scores and Links"
   ]
  },
  {
   "cell_type": "code",
   "execution_count": 6,
   "metadata": {
    "papermill": {
     "duration": 0.013213,
     "end_time": "2020-06-03T09:45:21.811281",
     "exception": false,
     "start_time": "2020-06-03T09:45:21.798068",
     "status": "completed"
    },
    "tags": []
   },
   "outputs": [],
   "source": [
    "altmetric_base_url = 'http://api.altmetric.com/v1/doi/'"
   ]
  },
  {
   "cell_type": "code",
   "execution_count": 7,
   "metadata": {
    "papermill": {
     "duration": 0.012662,
     "end_time": "2020-06-03T09:45:21.831597",
     "exception": false,
     "start_time": "2020-06-03T09:45:21.818935",
     "status": "completed"
    },
    "tags": []
   },
   "outputs": [],
   "source": [
    "altmetric_scores = {}\n",
    "altmetric_details_url = {}"
   ]
  },
  {
   "cell_type": "code",
   "execution_count": 8,
   "metadata": {
    "papermill": {
     "duration": 231.604754,
     "end_time": "2020-06-03T09:49:13.443467",
     "exception": false,
     "start_time": "2020-06-03T09:45:21.838713",
     "status": "completed"
    },
    "scrolled": false,
    "tags": []
   },
   "outputs": [
    {
     "name": "stdout",
     "output_type": "stream",
     "text": [
      "number of papers 4589\n"
     ]
    }
   ],
   "source": [
    "doi_words = {}\n",
    "all_words = []\n",
    "arr_papers = req_dict['rels']\n",
    "print('number of papers', len(arr_papers))\n",
    "for inst_paper in arr_papers:\n",
    "    inst_doi = inst_paper['rel_doi']\n",
    "    \n",
    "    r = requests.get(altmetric_base_url + inst_doi)\n",
    "    \n",
    "    if r.text != 'Not Found':\n",
    "        alt_req_dict = json.loads(r.text)\n",
    "\n",
    "        altmetric_scores[inst_doi] = alt_req_dict['score']\n",
    "        altmetric_details_url[inst_doi] = alt_req_dict['details_url']"
   ]
  },
  {
   "cell_type": "code",
   "execution_count": 9,
   "metadata": {
    "papermill": {
     "duration": 0.0174,
     "end_time": "2020-06-03T09:49:13.472006",
     "exception": false,
     "start_time": "2020-06-03T09:49:13.454606",
     "status": "completed"
    },
    "tags": []
   },
   "outputs": [
    {
     "data": {
      "text/plain": [
       "'{\"title\":\"Structure-Guided Mutagenesis Alters Deubiquitinating Activity and Attenuates Pathogenesis of a Murine Coronavirus\",\"doi\":\"10.1101/782409\",\"altmetric_jid\":\"532721422a83ee84788b4567\",\"journal\":\"bioRxiv\",\"cohorts\":{\"pub\":11},\"context\":{\"all\":{\"count\":15169182,\"mean\":8.7316758408964,\"rank\":2268550,\"pct\":85,\"higher_than\":12896066},\"journal\":{\"count\":84140,\"mean\":13.555814164656,\"rank\":31879,\"pct\":61,\"higher_than\":52148},\"similar_age_3m\":{\"count\":266790,\"mean\":13.028191484656,\"rank\":57176,\"pct\":78,\"higher_than\":209416},\"similar_age_journal_3m\":{\"count\":7675,\"mean\":11.213585874381,\"rank\":2684,\"pct\":64,\"higher_than\":4984}},\"authors\":[\"Deng, Xufang\",\"Chen, Yafang\",\"Mielech, Anna M.\",\"Hackbart, Matthew\",\"Kesely, Kristina R.\",\"Mettelman, Robert C.\",\"O’Brien, Amornrat\",\"Chapman, Mackenzie E.\",\"Mesecar, Andrew D.\",\"Baker, Susan C.\"],\"type\":\"article\",\"altmetric_id\":67153698,\"schema\":\"1.5.4\",\"is_oa\":false,\"cited_by_posts_count\":11,\"cited_by_tweeters_count\":11,\"cited_by_accounts_count\":11,\"last_updated\":1591141515,\"score\":8.45,\"history\":{\"1y\":8.45,\"6m\":8.2,\"3m\":1.25,\"1m\":1,\"1w\":1,\"6d\":1,\"5d\":1,\"4d\":1,\"3d\":1,\"2d\":1,\"1d\":1,\"at\":8.45},\"url\":\"http://dx.doi.org/10.1101/782409\",\"added_on\":1569490905,\"readers\":{\"citeulike\":\"0\",\"mendeley\":\"5\",\"connotea\":\"0\"},\"readers_count\":5,\"images\":{\"small\":\"https://badges.altmetric.com/?size=64&score=9&types=tttttttt\",\"medium\":\"https://badges.altmetric.com/?size=100&score=9&types=tttttttt\",\"large\":\"https://badges.altmetric.com/?size=180&score=9&types=tttttttt\"},\"details_url\":\"http://www.altmetric.com/details.php?citation_id=67153698\"}'"
      ]
     },
     "execution_count": 9,
     "metadata": {},
     "output_type": "execute_result"
    }
   ],
   "source": [
    "r.text"
   ]
  },
  {
   "cell_type": "markdown",
   "metadata": {
    "papermill": {
     "duration": 0.007514,
     "end_time": "2020-06-03T09:49:13.487824",
     "exception": false,
     "start_time": "2020-06-03T09:49:13.480310",
     "status": "completed"
    },
    "tags": []
   },
   "source": [
    "### Save Scores and Links to JSON Document"
   ]
  },
  {
   "cell_type": "code",
   "execution_count": 10,
   "metadata": {
    "papermill": {
     "duration": 0.148551,
     "end_time": "2020-06-03T09:49:13.644876",
     "exception": false,
     "start_time": "2020-06-03T09:49:13.496325",
     "status": "completed"
    },
    "tags": []
   },
   "outputs": [
    {
     "name": "stdout",
     "output_type": "stream",
     "text": [
      "mkdir: ../altmetric_data/: File exists\r\n"
     ]
    }
   ],
   "source": [
    "!mkdir ../altmetric_data/\n",
    "net.save_dict_to_json(altmetric_scores, '../altmetric_data/altmetric_scores.json')\n",
    "net.save_dict_to_json(altmetric_scores, '../altmetric_data/altmetric_details_url.json')"
   ]
  },
  {
   "cell_type": "code",
   "execution_count": null,
   "metadata": {
    "papermill": {
     "duration": 0.00925,
     "end_time": "2020-06-03T09:49:13.665504",
     "exception": false,
     "start_time": "2020-06-03T09:49:13.656254",
     "status": "completed"
    },
    "tags": []
   },
   "outputs": [],
   "source": []
  }
 ],
 "metadata": {
  "kernelspec": {
   "display_name": "Python 3",
   "language": "python",
   "name": "python3"
  },
  "language_info": {
   "codemirror_mode": {
    "name": "ipython",
    "version": 3
   },
   "file_extension": ".py",
   "mimetype": "text/x-python",
   "name": "python",
   "nbconvert_exporter": "python",
   "pygments_lexer": "ipython3",
   "version": "3.6.5"
  },
  "papermill": {
   "duration": 242.56358,
   "end_time": "2020-06-03T09:49:14.093620",
   "environment_variables": {},
   "exception": null,
   "input_path": "1.1.0_Collect_Altmetrics.ipynb",
   "output_path": "../papermill_notebooks/1.1.0_Collect_Altmetrics.ipynb",
   "parameters": {},
   "start_time": "2020-06-03T09:45:11.530040",
   "version": "1.2.1"
  }
 },
 "nbformat": 4,
 "nbformat_minor": 2
}