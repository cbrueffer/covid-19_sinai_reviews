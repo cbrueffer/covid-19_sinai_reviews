{
 "cells": [
  {
   "cell_type": "markdown",
   "metadata": {
    "papermill": {
     "duration": 0.010312,
     "end_time": "2020-05-27T03:40:57.576751",
     "exception": false,
     "start_time": "2020-05-27T03:40:57.566439",
     "status": "completed"
    },
    "tags": []
   },
   "source": [
    "# 1.1.0 Collect Altmetrics"
   ]
  },
  {
   "cell_type": "code",
   "execution_count": 1,
   "metadata": {
    "papermill": {
     "duration": 1.364954,
     "end_time": "2020-05-27T03:40:58.951960",
     "exception": false,
     "start_time": "2020-05-27T03:40:57.587006",
     "status": "completed"
    },
    "tags": []
   },
   "outputs": [
    {
     "name": "stdout",
     "output_type": "stream",
     "text": [
      ">> clustergrammer2 backend version 0.10.0\n"
     ]
    }
   ],
   "source": [
    "import pandas as pd\n",
    "import requests\n",
    "from glob import glob\n",
    "import json\n",
    "from clustergrammer2 import net"
   ]
  },
  {
   "cell_type": "code",
   "execution_count": 2,
   "metadata": {
    "papermill": {
     "duration": 0.018691,
     "end_time": "2020-05-27T03:40:58.980898",
     "exception": false,
     "start_time": "2020-05-27T03:40:58.962207",
     "status": "completed"
    },
    "tags": []
   },
   "outputs": [
    {
     "data": {
      "text/plain": [
       "181"
      ]
     },
     "execution_count": 2,
     "metadata": {},
     "output_type": "execute_result"
    }
   ],
   "source": [
    "all_files = glob('../markdown_files/*.md')\n",
    "len(all_files)"
   ]
  },
  {
   "cell_type": "markdown",
   "metadata": {
    "papermill": {
     "duration": 0.009962,
     "end_time": "2020-05-27T03:40:58.999642",
     "exception": false,
     "start_time": "2020-05-27T03:40:58.989680",
     "status": "completed"
    },
    "tags": []
   },
   "source": [
    "### Get the Latest Papers"
   ]
  },
  {
   "cell_type": "code",
   "execution_count": 3,
   "metadata": {
    "papermill": {
     "duration": 0.014274,
     "end_time": "2020-05-27T03:40:59.024860",
     "exception": false,
     "start_time": "2020-05-27T03:40:59.010586",
     "status": "completed"
    },
    "tags": []
   },
   "outputs": [],
   "source": [
    "url = 'https://connect.biorxiv.org/relate/collection_json.php?grp=181'"
   ]
  },
  {
   "cell_type": "code",
   "execution_count": 4,
   "metadata": {
    "papermill": {
     "duration": 5.744624,
     "end_time": "2020-05-27T03:41:04.776794",
     "exception": false,
     "start_time": "2020-05-27T03:40:59.032170",
     "status": "completed"
    },
    "tags": []
   },
   "outputs": [],
   "source": [
    "r = requests.get(url)"
   ]
  },
  {
   "cell_type": "code",
   "execution_count": 5,
   "metadata": {
    "papermill": {
     "duration": 0.336051,
     "end_time": "2020-05-27T03:41:05.127464",
     "exception": false,
     "start_time": "2020-05-27T03:41:04.791413",
     "status": "completed"
    },
    "tags": []
   },
   "outputs": [],
   "source": [
    "req_dict = json.loads(r.text)"
   ]
  },
  {
   "cell_type": "markdown",
   "metadata": {
    "papermill": {
     "duration": 0.011357,
     "end_time": "2020-05-27T03:41:05.149400",
     "exception": false,
     "start_time": "2020-05-27T03:41:05.138043",
     "status": "completed"
    },
    "tags": []
   },
   "source": [
    "### Update Altmetric Scores and Links"
   ]
  },
  {
   "cell_type": "code",
   "execution_count": 6,
   "metadata": {
    "papermill": {
     "duration": 0.018166,
     "end_time": "2020-05-27T03:41:05.181237",
     "exception": false,
     "start_time": "2020-05-27T03:41:05.163071",
     "status": "completed"
    },
    "tags": []
   },
   "outputs": [],
   "source": [
    "altmetric_base_url = 'http://api.altmetric.com/v1/doi/'"
   ]
  },
  {
   "cell_type": "code",
   "execution_count": 7,
   "metadata": {
    "papermill": {
     "duration": 0.017614,
     "end_time": "2020-05-27T03:41:05.208181",
     "exception": false,
     "start_time": "2020-05-27T03:41:05.190567",
     "status": "completed"
    },
    "tags": []
   },
   "outputs": [],
   "source": [
    "altmetric_scores = {}\n",
    "altmetric_details_url = {}"
   ]
  },
  {
   "cell_type": "code",
   "execution_count": 8,
   "metadata": {
    "papermill": {
     "duration": 842.942514,
     "end_time": "2020-05-27T03:55:08.158912",
     "exception": false,
     "start_time": "2020-05-27T03:41:05.216398",
     "status": "completed"
    },
    "scrolled": false,
    "tags": []
   },
   "outputs": [
    {
     "name": "stdout",
     "output_type": "stream",
     "text": [
      "number of papers 4257\n"
     ]
    }
   ],
   "source": [
    "doi_words = {}\n",
    "all_words = []\n",
    "arr_papers = req_dict['rels']\n",
    "print('number of papers', len(arr_papers))\n",
    "for inst_paper in arr_papers:\n",
    "    inst_doi = inst_paper['rel_doi']\n",
    "    \n",
    "    r = requests.get(altmetric_base_url + inst_doi)\n",
    "    \n",
    "    if r.text != 'Not Found':\n",
    "        alt_req_dict = json.loads(r.text)\n",
    "\n",
    "        altmetric_scores[inst_doi] = alt_req_dict['score']\n",
    "        altmetric_details_url[inst_doi] = alt_req_dict['details_url']"
   ]
  },
  {
   "cell_type": "code",
   "execution_count": 9,
   "metadata": {
    "papermill": {
     "duration": 0.038497,
     "end_time": "2020-05-27T03:55:08.230695",
     "exception": false,
     "start_time": "2020-05-27T03:55:08.192198",
     "status": "completed"
    },
    "tags": []
   },
   "outputs": [
    {
     "data": {
      "text/plain": [
       "'{\"title\":\"Structure-Guided Mutagenesis Alters Deubiquitinating Activity and Attenuates Pathogenesis of a Murine Coronavirus\",\"doi\":\"10.1101/782409\",\"altmetric_jid\":\"532721422a83ee84788b4567\",\"journal\":\"bioRxiv\",\"cohorts\":{\"pub\":10},\"context\":{\"all\":{\"count\":14700285,\"mean\":8.6298945148178,\"rank\":2219458,\"pct\":84,\"higher_than\":12476945},\"journal\":{\"count\":79035,\"mean\":13.333227497027,\"rank\":30896,\"pct\":60,\"higher_than\":48009},\"similar_age_3m\":{\"count\":264706,\"mean\":13.0100701309,\"rank\":58077,\"pct\":78,\"higher_than\":206484},\"similar_age_journal_3m\":{\"count\":7675,\"mean\":11.203224654678,\"rank\":2740,\"pct\":64,\"higher_than\":4923}},\"authors\":[\"Deng, Xufang\",\"Chen, Yafang\",\"Mielech, Anna M.\",\"Hackbart, Matthew\",\"Kesely, Kristina R.\",\"Mettelman, Robert C.\",\"O’Brien, Amornrat\",\"Chapman, Mackenzie E.\",\"Mesecar, Andrew D.\",\"Baker, Susan C.\"],\"type\":\"article\",\"altmetric_id\":67153698,\"schema\":\"1.5.4\",\"is_oa\":false,\"cited_by_posts_count\":10,\"cited_by_tweeters_count\":10,\"cited_by_accounts_count\":10,\"last_updated\":1584983303,\"score\":8.2,\"history\":{\"1y\":8.2,\"6m\":7.95,\"3m\":7.95,\"1m\":0,\"1w\":0,\"6d\":0,\"5d\":0,\"4d\":0,\"3d\":0,\"2d\":0,\"1d\":0,\"at\":8.2},\"url\":\"http://dx.doi.org/10.1101/782409\",\"added_on\":1569490905,\"readers\":{\"citeulike\":\"0\",\"mendeley\":\"4\",\"connotea\":\"0\"},\"readers_count\":4,\"images\":{\"small\":\"https://badges.altmetric.com/?size=64&score=9&types=tttttttt\",\"medium\":\"https://badges.altmetric.com/?size=100&score=9&types=tttttttt\",\"large\":\"https://badges.altmetric.com/?size=180&score=9&types=tttttttt\"},\"details_url\":\"http://www.altmetric.com/details.php?citation_id=67153698\"}'"
      ]
     },
     "execution_count": 9,
     "metadata": {},
     "output_type": "execute_result"
    }
   ],
   "source": [
    "r.text"
   ]
  },
  {
   "cell_type": "markdown",
   "metadata": {
    "papermill": {
     "duration": 0.007806,
     "end_time": "2020-05-27T03:55:08.246512",
     "exception": false,
     "start_time": "2020-05-27T03:55:08.238706",
     "status": "completed"
    },
    "tags": []
   },
   "source": [
    "### Save Scores and Links to JSON Document"
   ]
  },
  {
   "cell_type": "code",
   "execution_count": 10,
   "metadata": {
    "papermill": {
     "duration": 0.278239,
     "end_time": "2020-05-27T03:55:08.532534",
     "exception": false,
     "start_time": "2020-05-27T03:55:08.254295",
     "status": "completed"
    },
    "tags": []
   },
   "outputs": [
    {
     "name": "stdout",
     "output_type": "stream",
     "text": [
      "mkdir: ../altmetric_data/: File exists\r\n"
     ]
    }
   ],
   "source": [
    "!mkdir ../altmetric_data/\n",
    "net.save_dict_to_json(altmetric_scores, '../altmetric_data/altmetric_scores.json')\n",
    "net.save_dict_to_json(altmetric_scores, '../altmetric_data/altmetric_details_url.json')"
   ]
  },
  {
   "cell_type": "code",
   "execution_count": null,
   "metadata": {
    "papermill": {
     "duration": 0.009794,
     "end_time": "2020-05-27T03:55:08.551136",
     "exception": false,
     "start_time": "2020-05-27T03:55:08.541342",
     "status": "completed"
    },
    "tags": []
   },
   "outputs": [],
   "source": []
  }
 ],
 "metadata": {
  "kernelspec": {
   "display_name": "Python 3",
   "language": "python",
   "name": "python3"
  },
  "language_info": {
   "codemirror_mode": {
    "name": "ipython",
    "version": 3
   },
   "file_extension": ".py",
   "mimetype": "text/x-python",
   "name": "python",
   "nbconvert_exporter": "python",
   "pygments_lexer": "ipython3",
   "version": "3.6.5"
  },
  "papermill": {
   "duration": 852.615471,
   "end_time": "2020-05-27T03:55:09.414108",
   "environment_variables": {},
   "exception": null,
   "input_path": "1.1.0_Collect_Altmetrics.ipynb",
   "output_path": "../papermill_notebooks/1.1.0_Collect_Altmetrics.ipynb",
   "parameters": {},
   "start_time": "2020-05-27T03:40:56.798637",
   "version": "1.2.1"
  }
 },
 "nbformat": 4,
 "nbformat_minor": 2
}