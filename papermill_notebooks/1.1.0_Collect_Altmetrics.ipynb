{
 "cells": [
  {
   "cell_type": "markdown",
   "metadata": {
    "papermill": {
     "duration": 0.011056,
     "end_time": "2020-04-24T15:36:02.776679",
     "exception": false,
     "start_time": "2020-04-24T15:36:02.765623",
     "status": "completed"
    },
    "tags": []
   },
   "source": [
    "# 1.1.0 Collect Altmetrics"
   ]
  },
  {
   "cell_type": "code",
   "execution_count": 1,
   "metadata": {
    "papermill": {
     "duration": 1.789141,
     "end_time": "2020-04-24T15:36:04.574635",
     "exception": false,
     "start_time": "2020-04-24T15:36:02.785494",
     "status": "completed"
    },
    "tags": []
   },
   "outputs": [
    {
     "name": "stdout",
     "output_type": "stream",
     "text": [
      ">> clustergrammer2 backend version 0.6.0\n"
     ]
    }
   ],
   "source": [
    "import pandas as pd\n",
    "import requests\n",
    "from glob import glob\n",
    "import json\n",
    "from clustergrammer2 import net"
   ]
  },
  {
   "cell_type": "code",
   "execution_count": 2,
   "metadata": {
    "papermill": {
     "duration": 0.026089,
     "end_time": "2020-04-24T15:36:04.615416",
     "exception": false,
     "start_time": "2020-04-24T15:36:04.589327",
     "status": "completed"
    },
    "tags": []
   },
   "outputs": [
    {
     "data": {
      "text/plain": [
       "129"
      ]
     },
     "execution_count": 2,
     "metadata": {},
     "output_type": "execute_result"
    }
   ],
   "source": [
    "all_files = glob('../markdown_files/*.md')\n",
    "len(all_files)"
   ]
  },
  {
   "cell_type": "markdown",
   "metadata": {
    "papermill": {
     "duration": 0.011219,
     "end_time": "2020-04-24T15:36:04.637051",
     "exception": false,
     "start_time": "2020-04-24T15:36:04.625832",
     "status": "completed"
    },
    "tags": []
   },
   "source": [
    "### Get the Latest Papers"
   ]
  },
  {
   "cell_type": "code",
   "execution_count": 3,
   "metadata": {
    "papermill": {
     "duration": 0.020711,
     "end_time": "2020-04-24T15:36:04.665289",
     "exception": false,
     "start_time": "2020-04-24T15:36:04.644578",
     "status": "completed"
    },
    "tags": []
   },
   "outputs": [],
   "source": [
    "url = 'https://connect.biorxiv.org/relate/collection_json.php?grp=181'"
   ]
  },
  {
   "cell_type": "code",
   "execution_count": 4,
   "metadata": {
    "papermill": {
     "duration": 1.412813,
     "end_time": "2020-04-24T15:36:06.086778",
     "exception": false,
     "start_time": "2020-04-24T15:36:04.673965",
     "status": "completed"
    },
    "tags": []
   },
   "outputs": [],
   "source": [
    "r = requests.get(url)"
   ]
  },
  {
   "cell_type": "code",
   "execution_count": 5,
   "metadata": {
    "papermill": {
     "duration": 0.097539,
     "end_time": "2020-04-24T15:36:06.196769",
     "exception": false,
     "start_time": "2020-04-24T15:36:06.099230",
     "status": "completed"
    },
    "tags": []
   },
   "outputs": [],
   "source": [
    "req_dict = json.loads(r.text)"
   ]
  },
  {
   "cell_type": "markdown",
   "metadata": {
    "papermill": {
     "duration": 0.008827,
     "end_time": "2020-04-24T15:36:06.214951",
     "exception": false,
     "start_time": "2020-04-24T15:36:06.206124",
     "status": "completed"
    },
    "tags": []
   },
   "source": [
    "### Update Altmetric Scores and Links"
   ]
  },
  {
   "cell_type": "code",
   "execution_count": 6,
   "metadata": {
    "papermill": {
     "duration": 0.019666,
     "end_time": "2020-04-24T15:36:06.249974",
     "exception": false,
     "start_time": "2020-04-24T15:36:06.230308",
     "status": "completed"
    },
    "tags": []
   },
   "outputs": [],
   "source": [
    "altmetric_base_url = 'http://api.altmetric.com/v1/doi/'"
   ]
  },
  {
   "cell_type": "code",
   "execution_count": 7,
   "metadata": {
    "papermill": {
     "duration": 0.055742,
     "end_time": "2020-04-24T15:36:06.319648",
     "exception": false,
     "start_time": "2020-04-24T15:36:06.263906",
     "status": "completed"
    },
    "tags": []
   },
   "outputs": [],
   "source": [
    "altmetric_scores = {}\n",
    "altmetric_details_url = {}"
   ]
  },
  {
   "cell_type": "code",
   "execution_count": 8,
   "metadata": {
    "papermill": {
     "duration": 404.701164,
     "end_time": "2020-04-24T15:42:51.040547",
     "exception": false,
     "start_time": "2020-04-24T15:36:06.339383",
     "status": "completed"
    },
    "scrolled": false,
    "tags": []
   },
   "outputs": [
    {
     "name": "stdout",
     "output_type": "stream",
     "text": [
      "number of papers 2179\n"
     ]
    }
   ],
   "source": [
    "doi_words = {}\n",
    "all_words = []\n",
    "arr_papers = req_dict['rels']\n",
    "print('number of papers', len(arr_papers))\n",
    "for inst_paper in arr_papers:\n",
    "    inst_doi = inst_paper['rel_doi']\n",
    "    \n",
    "    r = requests.get(altmetric_base_url + inst_doi)\n",
    "    \n",
    "    if r.text != 'Not Found':\n",
    "        alt_req_dict = json.loads(r.text)\n",
    "\n",
    "        altmetric_scores[inst_doi] = alt_req_dict['score']\n",
    "        altmetric_details_url[inst_doi] = alt_req_dict['details_url']"
   ]
  },
  {
   "cell_type": "code",
   "execution_count": 9,
   "metadata": {
    "papermill": {
     "duration": 0.019563,
     "end_time": "2020-04-24T15:42:51.071106",
     "exception": false,
     "start_time": "2020-04-24T15:42:51.051543",
     "status": "completed"
    },
    "tags": []
   },
   "outputs": [
    {
     "data": {
      "text/plain": [
       "'{\"title\":\"Functional enrichments of disease variants across thousands of independent loci in eight diseases\",\"doi\":\"10.1101/048066\",\"altmetric_jid\":\"532721422a83ee84788b4567\",\"journal\":\"bioRxiv\",\"cohorts\":{\"pub\":7,\"sci\":4},\"context\":{\"all\":{\"count\":11342964,\"mean\":7.2415172243698,\"rank\":2400965,\"pct\":78,\"higher_than\":8933695},\"journal\":{\"count\":26744,\"mean\":14.451070485735,\"rank\":15131,\"pct\":42,\"higher_than\":11496},\"similar_age_3m\":{\"count\":282156,\"mean\":11.730294745796,\"rank\":69797,\"pct\":75,\"higher_than\":212070},\"similar_age_journal_3m\":{\"count\":1085,\"mean\":16.399411439114,\"rank\":574,\"pct\":46,\"higher_than\":508}},\"authors\":[\"Abhishek K Sarkar\",\"Lucas D. Ward\",\"Manolis Kellis\"],\"type\":\"article\",\"altmetric_id\":6616875,\"schema\":\"1.5.4\",\"is_oa\":false,\"cited_by_posts_count\":11,\"cited_by_tweeters_count\":11,\"cited_by_accounts_count\":11,\"last_updated\":1460576495,\"score\":5.35,\"history\":{\"1y\":0,\"6m\":0,\"3m\":0,\"1m\":0,\"1w\":0,\"6d\":0,\"5d\":0,\"4d\":0,\"3d\":0,\"2d\":0,\"1d\":0,\"at\":5.35},\"url\":\"http://dx.doi.org/10.1101/048066\",\"added_on\":1460412027,\"published_on\":1460332800,\"readers\":{\"citeulike\":\"0\",\"mendeley\":\"21\",\"connotea\":\"0\"},\"readers_count\":21,\"images\":{\"small\":\"https://badges.altmetric.com/?size=64&score=6&types=tttttttt\",\"medium\":\"https://badges.altmetric.com/?size=100&score=6&types=tttttttt\",\"large\":\"https://badges.altmetric.com/?size=180&score=6&types=tttttttt\"},\"details_url\":\"http://www.altmetric.com/details.php?citation_id=6616875\"}'"
      ]
     },
     "execution_count": 9,
     "metadata": {},
     "output_type": "execute_result"
    }
   ],
   "source": [
    "r.text"
   ]
  },
  {
   "cell_type": "markdown",
   "metadata": {
    "papermill": {
     "duration": 0.009329,
     "end_time": "2020-04-24T15:42:51.091668",
     "exception": false,
     "start_time": "2020-04-24T15:42:51.082339",
     "status": "completed"
    },
    "tags": []
   },
   "source": [
    "### Save Scores and Links to JSON Document"
   ]
  },
  {
   "cell_type": "code",
   "execution_count": 10,
   "metadata": {
    "papermill": {
     "duration": 0.144142,
     "end_time": "2020-04-24T15:42:51.244105",
     "exception": false,
     "start_time": "2020-04-24T15:42:51.099963",
     "status": "completed"
    },
    "tags": []
   },
   "outputs": [
    {
     "name": "stdout",
     "output_type": "stream",
     "text": [
      "mkdir: ../altmetric_data/: File exists\r\n"
     ]
    }
   ],
   "source": [
    "!mkdir ../altmetric_data/\n",
    "net.save_dict_to_json(altmetric_scores, '../altmetric_data/altmetric_scores.json')\n",
    "net.save_dict_to_json(altmetric_scores, '../altmetric_data/altmetric_details_url.json')"
   ]
  },
  {
   "cell_type": "code",
   "execution_count": null,
   "metadata": {
    "papermill": {
     "duration": 0.009808,
     "end_time": "2020-04-24T15:42:51.265117",
     "exception": false,
     "start_time": "2020-04-24T15:42:51.255309",
     "status": "completed"
    },
    "tags": []
   },
   "outputs": [],
   "source": []
  }
 ],
 "metadata": {
  "kernelspec": {
   "display_name": "Python 3",
   "language": "python",
   "name": "python3"
  },
  "language_info": {
   "codemirror_mode": {
    "name": "ipython",
    "version": 3
   },
   "file_extension": ".py",
   "mimetype": "text/x-python",
   "name": "python",
   "nbconvert_exporter": "python",
   "pygments_lexer": "ipython3",
   "version": "3.6.5"
  },
  "papermill": {
   "duration": 409.683313,
   "end_time": "2020-04-24T15:42:51.701033",
   "environment_variables": {},
   "exception": null,
   "input_path": "1.1.0_Collect_Altmetrics.ipynb",
   "output_path": "../papermill_notebooks/1.1.0_Collect_Altmetrics.ipynb",
   "parameters": {},
   "start_time": "2020-04-24T15:36:02.017720",
   "version": "1.2.1"
  }
 },
 "nbformat": 4,
 "nbformat_minor": 2
}